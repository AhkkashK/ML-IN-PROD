{
 "cells": [
  {
   "cell_type": "code",
   "execution_count": 1,
   "metadata": {},
   "outputs": [],
   "source": [
    "import mlflow\n",
    "import mlflow.sklearn\n",
    "\n",
    "\n",
    "# Set MLflow tracking URI to your Dagshub instance\n",
    "mlflow.set_tracking_uri(\"https://dagshub.com/AhkkashK/ML-IN-PROD.mlflow\")\n",
    "\n"
   ]
  },
  {
   "cell_type": "code",
   "execution_count": 2,
   "metadata": {},
   "outputs": [],
   "source": [
    "import nltk\n",
    "from nltk.corpus import stopwords\n",
    "from nltk.stem import PorterStemmer\n",
    "\n",
    "# Initialize stopwords and stemmer once (better performance)\n",
    "stop_words = set(stopwords.words('english'))\n",
    "stemmer = PorterStemmer()\n",
    "\n",
    "def transform_text(text):\n",
    "    # Lowercase and tokenize the text\n",
    "    words = nltk.word_tokenize(text.lower())\n",
    "    \n",
    "    # Filter out non-alphanumeric words and stopwords, and apply stemming\n",
    "    words = [\n",
    "        stemmer.stem(word) for word in words\n",
    "        if word.isalnum() and word not in stop_words\n",
    "    ]\n",
    "    \n",
    "    # Join the words back into a single string\n",
    "    return \" \".join(words)"
   ]
  },
  {
   "cell_type": "code",
   "execution_count": 3,
   "metadata": {},
   "outputs": [
    {
     "name": "stderr",
     "output_type": "stream",
     "text": [
      "/Library/Frameworks/Python.framework/Versions/3.10/lib/python3.10/site-packages/tqdm/auto.py:21: TqdmWarning: IProgress not found. Please update jupyter and ipywidgets. See https://ipywidgets.readthedocs.io/en/stable/user_install.html\n",
      "  from .autonotebook import tqdm as notebook_tqdm\n",
      "Downloading artifacts: 100%|██████████| 5/5 [00:00<00:00,  6.03it/s]\n",
      "Downloading artifacts: 100%|██████████| 5/5 [00:02<00:00,  2.37it/s]\n"
     ]
    }
   ],
   "source": [
    "import mlflow\n",
    "import mlflow.sklearn\n",
    "\n",
    "\n",
    "# Load random forest\n",
    "model_uri = \"runs:/8815fb7d7d9f4085bd7c79bd812fafc2/random_forest_model\"  \n",
    "\n",
    "model = mlflow.sklearn.load_model(model_uri)\n",
    "\n",
    "# Load vector TF-IDF \n",
    "tfidf_uri = \"runs:/8815fb7d7d9f4085bd7c79bd812fafc2/tfidf_vectorizer\"\n",
    "tfidf = mlflow.sklearn.load_model(tfidf_uri)"
   ]
  },
  {
   "cell_type": "code",
   "execution_count": 4,
   "metadata": {},
   "outputs": [],
   "source": [
    "input_message = [\n",
    "    \"Hey, I booked a table for the two of us tonight at 7pm, does that work for you?\",\n",
    "    \"Did you see that movie at the theater yesterday? It was amazing, we should go next time!\",\n",
    "    \"I just sent you the details for the concert, did you check it out?\",\n",
    "    \"Got any plans for tonight? We could meet for a drink if you’re up for it.\",\n",
    "    \"Congratulations! You've won a free trip to Paris, reply to confirm!\",\n",
    "    \"Your credit card has been compromised. Click here to secure it now.\",\n",
    "    \"Claim your prize! You've won a 100€ gift voucher! Reply to get it.\",\n",
    "    \"URGENT: Your bank account has been suspended. Click here to verify immediately.\",\n",
    "    \"Win a free iPhone, just fill out this online form to claim it!\",\n",
    "    \"We've noticed suspicious activity on your PayPal account. Log in to secure it.\"\n",
    "]\n"
   ]
  },
  {
   "cell_type": "code",
   "execution_count": 5,
   "metadata": {},
   "outputs": [
    {
     "name": "stdout",
     "output_type": "stream",
     "text": [
      "Message: Hey, I booked a table for the two of us tonight at 7pm, does that work for you?\n",
      "Prediction: ham\n",
      "\n",
      "Message: Did you see that movie at the theater yesterday? It was amazing, we should go next time!\n",
      "Prediction: ham\n",
      "\n",
      "Message: I just sent you the details for the concert, did you check it out?\n",
      "Prediction: ham\n",
      "\n",
      "Message: Got any plans for tonight? We could meet for a drink if you’re up for it.\n",
      "Prediction: ham\n",
      "\n",
      "Message: Congratulations! You've won a free trip to Paris, reply to confirm!\n",
      "Prediction: ham\n",
      "\n",
      "Message: Your credit card has been compromised. Click here to secure it now.\n",
      "Prediction: ham\n",
      "\n",
      "Message: Claim your prize! You've won a 100€ gift voucher! Reply to get it.\n",
      "Prediction: spam\n",
      "\n",
      "Message: URGENT: Your bank account has been suspended. Click here to verify immediately.\n",
      "Prediction: ham\n",
      "\n",
      "Message: Win a free iPhone, just fill out this online form to claim it!\n",
      "Prediction: spam\n",
      "\n",
      "Message: We've noticed suspicious activity on your PayPal account. Log in to secure it.\n",
      "Prediction: ham\n",
      "\n"
     ]
    }
   ],
   "source": [
    "processed_input = [transform_text(message) for message in input_message]\n",
    "X_input = tfidf.transform(processed_input)\n",
    "prediction = model.predict(X_input)\n",
    "for i, message in enumerate(input_message):\n",
    "    result = \"spam\" if prediction[i] == 1 else \"ham\"\n",
    "    print(f\"Message: {message}\\nPrediction: {result}\\n\")\n"
   ]
  }
 ],
 "metadata": {
  "kernelspec": {
   "display_name": "Python 3",
   "language": "python",
   "name": "python3"
  },
  "language_info": {
   "codemirror_mode": {
    "name": "ipython",
    "version": 3
   },
   "file_extension": ".py",
   "mimetype": "text/x-python",
   "name": "python",
   "nbconvert_exporter": "python",
   "pygments_lexer": "ipython3",
   "version": "3.10.11"
  }
 },
 "nbformat": 4,
 "nbformat_minor": 2
}
